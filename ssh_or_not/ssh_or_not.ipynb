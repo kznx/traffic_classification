{
 "cells": [
  {
   "cell_type": "code",
   "execution_count": 61,
   "metadata": {
    "collapsed": false
   },
   "outputs": [],
   "source": [
    "%matplotlib inline\n",
    "from scipy.io import arff\n",
    "import numpy as np\n",
    "from sklearn import cross_validation\n",
    "\n",
    "##  データセットを読み込む\n",
    "dataset, meta = arff.loadarff(\"DARPA99Week3-0.arff\")\n",
    "# dataset[0]\n"
   ]
  },
  {
   "cell_type": "code",
   "execution_count": 71,
   "metadata": {
    "collapsed": false
   },
   "outputs": [
    {
     "name": "stdout",
     "output_type": "stream",
     "text": [
      "x for train:  (50606, 21)\n",
      "x for test:  (12652, 21)\n",
      "y for train:  (50606, 2)\n",
      "y for test:  (12652, 2)\n"
     ]
    }
   ],
   "source": [
    "from keras.models import Sequential\n",
    "from keras.layers.core import Dense, Dropout, Activation\n",
    "from keras.optimizers import RMSprop\n",
    "from keras.utils import np_utils\n",
    "from keras.callbacks import EarlyStopping\n",
    "from sklearn.preprocessing import StandardScaler\n",
    "from sklearn.preprocessing import MinMaxScaler\n",
    "\n",
    "## 配列の型をtensorflow/kerasが扱えるnumpyのarrayに変換\n",
    "ds=np.asarray(dataset.tolist(), dtype=np.float32)\n",
    "target=np.asarray(ds[:,22].tolist(), dtype=np.int8)\n",
    "train=ds[:, :21]\n",
    "\n",
    "## 正規化\n",
    "mms = MinMaxScaler()\n",
    "x_norm = mms.fit_transform(train)\n",
    "\n",
    "## 訓練データとテストデータに分離\n",
    "train_x, test_x, train_y, test_y = cross_validation.train_test_split(\n",
    "    x_norm, target, test_size=0.2\n",
    ")\n",
    "\n",
    "# convert class vectors to 1-of-K format\n",
    "y_train = np_utils.to_categorical(train_y, 2)\n",
    "y_test = np_utils.to_categorical(test_y, 2)\n",
    "\n",
    "print('x for train: ', train_x.shape)\n",
    "print('x for test: ', test_x.shape)\n",
    "print('y for train: ', y_train.shape)\n",
    "print('y for test: ', y_test.shape)\n"
   ]
  },
  {
   "cell_type": "code",
   "execution_count": null,
   "metadata": {
    "collapsed": true
   },
   "outputs": [],
   "source": []
  },
  {
   "cell_type": "code",
   "execution_count": 74,
   "metadata": {
    "collapsed": false
   },
   "outputs": [
    {
     "name": "stdout",
     "output_type": "stream",
     "text": [
      "Epoch 1/10\n",
      "50606/50606 [==============================] - 1s - loss: 0.2669 - acc: 0.9484     \n",
      "Epoch 2/10\n",
      "50606/50606 [==============================] - 1s - loss: 0.1090 - acc: 0.9832     \n",
      "Epoch 3/10\n",
      "50606/50606 [==============================] - 1s - loss: 0.0733 - acc: 0.9869     \n",
      "Epoch 4/10\n",
      "50606/50606 [==============================] - 1s - loss: 0.0597 - acc: 0.9892     \n",
      "Epoch 5/10\n",
      "50606/50606 [==============================] - 1s - loss: 0.0495 - acc: 0.9913     \n",
      "Epoch 6/10\n",
      "50606/50606 [==============================] - 1s - loss: 0.0458 - acc: 0.9923     \n",
      "Epoch 7/10\n",
      "50606/50606 [==============================] - 1s - loss: 0.0427 - acc: 0.9925     \n",
      "Epoch 8/10\n",
      "50606/50606 [==============================] - 1s - loss: 0.0400 - acc: 0.9935     \n",
      "Epoch 9/10\n",
      "50606/50606 [==============================] - 1s - loss: 0.0374 - acc: 0.9938     \n",
      "Epoch 10/10\n",
      "50606/50606 [==============================] - 1s - loss: 0.0357 - acc: 0.9942     \n",
      "12096/12652 [===========================>..] - ETA: 0sTest loss: 0.0282513894941\n",
      "Test accuracy: 0.997707872273\n"
     ]
    }
   ],
   "source": [
    "\n",
    "# モデルの定義\n",
    "model = Sequential()\n",
    "\n",
    "# ネットワークの定義\n",
    "model.add(Dense(input_dim=21, output_dim=20))\n",
    "model.add(Activation('relu'))\n",
    "model.add(Dropout(0.2))\n",
    "\n",
    "model.add(Dense(input_dim=20, output_dim=20))\n",
    "model.add(Activation('relu'))\n",
    "model.add(Dropout(0.2))\n",
    "\n",
    "model.add(Dense(input_dim=20, output_dim=10))\n",
    "model.add(Activation('relu'))\n",
    "model.add(Dropout(0.2))\n",
    "\n",
    "## OUTPUT  SSH or NOTSSH\n",
    "model.add(Dense(output_dim=2))\n",
    "model.add(Activation('softmax'))\n",
    "\n",
    "# ネットワークのコンパイル\n",
    "model.compile(loss = 'categorical_crossentropy',\n",
    "              optimizer = 'sgd',\n",
    "              metrics = ['accuracy'])\n",
    "\n",
    "# 学習処理\n",
    "hist = model.fit(train_x, y_train, nb_epoch = 10, batch_size = 100, verbose=1)\n",
    "\n",
    "# 学習結果の評価\n",
    "score = model.evaluate(test_x, y_test)\n",
    "print('Test loss:', score[0])\n",
    "print('Test accuracy:', score[1])\n"
   ]
  },
  {
   "cell_type": "code",
   "execution_count": 75,
   "metadata": {
    "collapsed": false
   },
   "outputs": [
    {
     "data": {
      "image/png": "[encoded data removed]",
      "text/plain": [
       "<matplotlib.figure.Figure at 0x12bef6128>"
      ]
     },
     "metadata": {},
     "output_type": "display_data"
    }
   ],
   "source": [
    "import matplotlib.pyplot as plt\n",
    "plt.rcParams['font.size']=14\n",
    "\n",
    "# plot loss\n",
    "loss = hist.history['loss']\n",
    "nb_epoch = len(loss)\n",
    "plt.plot(range(nb_epoch), loss, marker='.', label='loss')\n",
    "plt.legend(loc='best', fontsize=10)\n",
    "plt.grid()\n",
    "plt.xlabel('epoch')\n",
    "plt.ylabel('loss')\n",
    "plt.show()\n"
   ]
  },
  {
   "cell_type": "code",
   "execution_count": null,
   "metadata": {
    "collapsed": true
   },
   "outputs": [],
   "source": []
  }
 ],
 "metadata": {
  "anaconda-cloud": {},
  "kernelspec": {
   "display_name": "Python [conda env:tensorflow]",
   "language": "python",
   "name": "conda-env-tensorflow-py"
  },
  "language_info": {
   "codemirror_mode": {
    "name": "ipython",
    "version": 3
   },
   "file_extension": ".py",
   "mimetype": "text/x-python",
   "name": "python",
   "nbconvert_exporter": "python",
   "pygments_lexer": "ipython3",
   "version": "3.5.2"
  }
 },
 "nbformat": 4,
 "nbformat_minor": 1
}
